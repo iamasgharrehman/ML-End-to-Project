{
  "nbformat": 4,
  "nbformat_minor": 0,
  "metadata": {
    "colab": {
      "provenance": []
    },
    "kernelspec": {
      "name": "python3",
      "display_name": "Python 3"
    },
    "language_info": {
      "name": "python"
    }
  },
  "cells": [
    {
      "cell_type": "code",
      "execution_count": 3,
      "metadata": {
        "colab": {
          "base_uri": "https://localhost:8080/",
          "height": 686
        },
        "id": "Il2lFpn8Y1Qs",
        "outputId": "adab81e7-8c1d-4b56-cad2-351135f7131d"
      },
      "outputs": [
        {
          "output_type": "stream",
          "name": "stdout",
          "text": [
            "Setting queue=True in a Colab notebook requires sharing enabled. Setting `share=True` (you can turn this off by setting `share=False` in `launch()` explicitly).\n",
            "\n",
            "Colab notebook detected. This cell will run indefinitely so that you can see errors and logs. To turn off, set debug=False in launch().\n",
            "Running on public URL: https://30e9f5c379d6c3290c.gradio.live\n",
            "\n",
            "This share link expires in 72 hours. For free permanent hosting and GPU upgrades, run `gradio deploy` from Terminal to deploy to Spaces (https://huggingface.co/spaces)\n"
          ]
        },
        {
          "output_type": "display_data",
          "data": {
            "text/plain": [
              "<IPython.core.display.HTML object>"
            ],
            "text/html": [
              "<div><iframe src=\"https://30e9f5c379d6c3290c.gradio.live\" width=\"100%\" height=\"500\" allow=\"autoplay; camera; microphone; clipboard-read; clipboard-write;\" frameborder=\"0\" allowfullscreen></iframe></div>"
            ]
          },
          "metadata": {}
        },
        {
          "output_type": "stream",
          "name": "stdout",
          "text": [
            "Keyboard interruption in main thread... closing server.\n",
            "Killing tunnel 127.0.0.1:7861 <> https://30e9f5c379d6c3290c.gradio.live\n"
          ]
        }
      ],
      "source": [
        "import gradio as gr\n",
        "import joblib as jb\n",
        "import pandas as pd\n",
        "import numpy as np\n",
        "IPL_WinWiz = jb.load('/content/IPL_Win_Predictor.plk')\n",
        "teams = [\n",
        "    'Sunrisers Hyderabad',\n",
        "    'Mumbai Indians',\n",
        "    'Chennai Super Kings',\n",
        "    'Royal Challengers Bangalore',\n",
        "    'Kings XI Punjab',\n",
        "    'Delhi Capitals',\n",
        "    'Kolkata Knight Riders',\n",
        "    'Rajasthan Royals'\n",
        "]\n",
        "\n",
        "city = ['Hyderabad', 'Bangalore', 'Mumbai', 'Indore', 'Kolkata', 'Delhi',\n",
        "       'Chandigarh', 'Jaipur', 'Chennai', 'Cape Town', 'Port Elizabeth',\n",
        "       'Durban', 'Centurion', 'East London', 'Johannesburg', 'Kimberley',\n",
        "       'Bloemfontein', 'Ahmedabad', 'Cuttack', 'Nagpur', 'Dharamsala',\n",
        "       'Visakhapatnam', 'Pune', 'Raipur', 'Ranchi', 'Abu Dhabi',\n",
        "       'Sharjah', 'Mohali', 'Bengaluru']\n",
        "\n",
        "def predict(batting_team, bowling_team, city, target, balls_left, wickets, runs_scored):\n",
        "    new_df = pd.DataFrame({\n",
        "        'batting_team' : [batting_team],\n",
        "        'bowling_team' : [bowling_team],\n",
        "        'city' : [city],\n",
        "        'target' : [target],\n",
        "        'balls_left': [balls_left],\n",
        "        'wickets' : [wickets],\n",
        "        'runs_left' : [(target- runs_scored)],\n",
        "        'crr' : [(runs_scored)*6/(120 -balls_left)],\n",
        "        'rrr' : [(target-runs_scored)*6/balls_left]\n",
        "    })\n",
        "    prediction = IPL_WinWiz.predict_proba(new_df)\n",
        "    bowling_prob = prediction[0][0] * 100\n",
        "    batting_prob = prediction[0][1] * 100\n",
        "\n",
        "    result =  f\"\"\"\n",
        "    <div style=\"font-size: 20px; font-weight: bold;\">\n",
        "        <p><span style=\"color: blue;\">{batting_team}</span>: <b>{batting_prob}%</b></p>\n",
        "        <p><span style=\"color: red;\">{bowling_team}</span>: <b>{bowling_prob}%</b></p>\n",
        "    </div>\n",
        "    \"\"\"\n",
        "\n",
        "    return result\n",
        "\n",
        "iface = gr.Interface(fn=predict, inputs=[\n",
        "    gr.Dropdown(teams, label=\"Batting_team\"),\n",
        "    gr.Dropdown(teams, label=\"Bowling_team\"),\n",
        "    gr.Dropdown(city, label=\"City\"),\n",
        "    gr.Number(label=\"Target\"),\n",
        "    gr.Number(label=\"Ball_left\"),\n",
        "    gr.Number(label=\"Wickets\"),\n",
        "    gr.Number(label=\"Runs_Scored\"),\n",
        "],\n",
        " outputs=gr.HTML(),\n",
        " title = 'IPL Win Predictor'\n",
        " )\n",
        "\n",
        "if __name__ == \"__main__\":\n",
        "    iface.launch(debug=True)"
      ]
    },
    {
      "cell_type": "code",
      "source": [
        "IPL_WinWiz = jb.load('/content/IPL_Win_Predictor.plk')"
      ],
      "metadata": {
        "colab": {
          "base_uri": "https://localhost:8080/"
        },
        "id": "wmHLMVv5et91",
        "outputId": "dd51bc1a-5919-44e5-8621-38f2019a2d2f"
      },
      "execution_count": 8,
      "outputs": [
        {
          "output_type": "stream",
          "name": "stderr",
          "text": [
            "/usr/local/lib/python3.10/dist-packages/sklearn/base.py:348: InconsistentVersionWarning: Trying to unpickle estimator OneHotEncoder from version 1.2.2 when using version 1.3.2. This might lead to breaking code or invalid results. Use at your own risk. For more info please refer to:\n",
            "https://scikit-learn.org/stable/model_persistence.html#security-maintainability-limitations\n",
            "  warnings.warn(\n",
            "/usr/local/lib/python3.10/dist-packages/sklearn/base.py:348: InconsistentVersionWarning: Trying to unpickle estimator FunctionTransformer from version 1.2.2 when using version 1.3.2. This might lead to breaking code or invalid results. Use at your own risk. For more info please refer to:\n",
            "https://scikit-learn.org/stable/model_persistence.html#security-maintainability-limitations\n",
            "  warnings.warn(\n",
            "/usr/local/lib/python3.10/dist-packages/sklearn/base.py:348: InconsistentVersionWarning: Trying to unpickle estimator ColumnTransformer from version 1.2.2 when using version 1.3.2. This might lead to breaking code or invalid results. Use at your own risk. For more info please refer to:\n",
            "https://scikit-learn.org/stable/model_persistence.html#security-maintainability-limitations\n",
            "  warnings.warn(\n",
            "/usr/local/lib/python3.10/dist-packages/sklearn/base.py:348: InconsistentVersionWarning: Trying to unpickle estimator LogisticRegression from version 1.2.2 when using version 1.3.2. This might lead to breaking code or invalid results. Use at your own risk. For more info please refer to:\n",
            "https://scikit-learn.org/stable/model_persistence.html#security-maintainability-limitations\n",
            "  warnings.warn(\n",
            "/usr/local/lib/python3.10/dist-packages/sklearn/base.py:348: InconsistentVersionWarning: Trying to unpickle estimator Pipeline from version 1.2.2 when using version 1.3.2. This might lead to breaking code or invalid results. Use at your own risk. For more info please refer to:\n",
            "https://scikit-learn.org/stable/model_persistence.html#security-maintainability-limitations\n",
            "  warnings.warn(\n"
          ]
        }
      ]
    },
    {
      "cell_type": "code",
      "source": [
        "pip install scikit-learn==1.2.2"
      ],
      "metadata": {
        "colab": {
          "base_uri": "https://localhost:8080/",
          "height": 370
        },
        "id": "otHQArjIZC5p",
        "outputId": "0d215828-f0e4-48cd-eb29-cb4adfcf4ba5"
      },
      "execution_count": 9,
      "outputs": [
        {
          "output_type": "stream",
          "name": "stdout",
          "text": [
            "Collecting scikit-learn==1.2.2\n",
            "  Downloading scikit_learn-1.2.2-cp310-cp310-manylinux_2_17_x86_64.manylinux2014_x86_64.whl.metadata (11 kB)\n",
            "Requirement already satisfied: numpy>=1.17.3 in /usr/local/lib/python3.10/dist-packages (from scikit-learn==1.2.2) (1.26.4)\n",
            "Requirement already satisfied: scipy>=1.3.2 in /usr/local/lib/python3.10/dist-packages (from scikit-learn==1.2.2) (1.13.1)\n",
            "Requirement already satisfied: joblib>=1.1.1 in /usr/local/lib/python3.10/dist-packages (from scikit-learn==1.2.2) (1.4.2)\n",
            "Requirement already satisfied: threadpoolctl>=2.0.0 in /usr/local/lib/python3.10/dist-packages (from scikit-learn==1.2.2) (3.5.0)\n",
            "Downloading scikit_learn-1.2.2-cp310-cp310-manylinux_2_17_x86_64.manylinux2014_x86_64.whl (9.6 MB)\n",
            "\u001b[2K   \u001b[90m━━━━━━━━━━━━━━━━━━━━━━━━━━━━━━━━━━━━━━━━\u001b[0m \u001b[32m9.6/9.6 MB\u001b[0m \u001b[31m24.5 MB/s\u001b[0m eta \u001b[36m0:00:00\u001b[0m\n",
            "\u001b[?25hInstalling collected packages: scikit-learn\n",
            "  Attempting uninstall: scikit-learn\n",
            "    Found existing installation: scikit-learn 1.3.2\n",
            "    Uninstalling scikit-learn-1.3.2:\n",
            "      Successfully uninstalled scikit-learn-1.3.2\n",
            "Successfully installed scikit-learn-1.2.2\n"
          ]
        },
        {
          "output_type": "display_data",
          "data": {
            "application/vnd.colab-display-data+json": {
              "pip_warning": {
                "packages": [
                  "sklearn"
                ]
              },
              "id": "c9e10e8f35fe462c84382b779a10748b"
            }
          },
          "metadata": {}
        }
      ]
    },
    {
      "cell_type": "code",
      "source": [
        "sklearn__version__"
      ],
      "metadata": {
        "colab": {
          "base_uri": "https://localhost:8080/",
          "height": 146
        },
        "id": "_8u13miyZDAU",
        "outputId": "e468cd36-59f0-4bfe-8749-1ba18050ab1e"
      },
      "execution_count": 4,
      "outputs": [
        {
          "output_type": "error",
          "ename": "NameError",
          "evalue": "name 'sklearn__version__' is not defined",
          "traceback": [
            "\u001b[0;31m---------------------------------------------------------------------------\u001b[0m",
            "\u001b[0;31mNameError\u001b[0m                                 Traceback (most recent call last)",
            "\u001b[0;32m<ipython-input-4-c506d7fde515>\u001b[0m in \u001b[0;36m<cell line: 1>\u001b[0;34m()\u001b[0m\n\u001b[0;32m----> 1\u001b[0;31m \u001b[0msklearn__version__\u001b[0m\u001b[0;34m\u001b[0m\u001b[0;34m\u001b[0m\u001b[0m\n\u001b[0m",
            "\u001b[0;31mNameError\u001b[0m: name 'sklearn__version__' is not defined"
          ]
        }
      ]
    }
  ]
}