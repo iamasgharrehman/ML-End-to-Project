{
  "nbformat": 4,
  "nbformat_minor": 0,
  "metadata": {
    "colab": {
      "provenance": []
    },
    "kernelspec": {
      "name": "python3",
      "display_name": "Python 3"
    },
    "language_info": {
      "name": "python"
    }
  },
  "cells": [
    {
      "cell_type": "code",
      "source": [
        "from gradio_client import Client\n",
        "import re\n",
        "\n",
        "# client = Client(\"https://17f605697bbcd018a0.gradio.live/\")\n",
        "client = Client(\"Asgharrehman/IPL_Win_Predictor\")\n",
        "result = client.predict(\n",
        "\t\tbatting_team=\"Sunrisers Hyderabad\",\n",
        "\t\tbowling_team=\"Chennai Super Kings\",\n",
        "\t\tcity=\"Mumbai\",\n",
        "\t\ttarget=180,\n",
        "\t\tballs_left=12,\n",
        "\t\twickets=5,\n",
        "\t\truns_scored=140,\n",
        "\t\tapi_name=\"/predict\"\n",
        ")\n",
        "\n",
        "bold_start = '\\033[1m'\n",
        "bold_end = '\\033[0m'\n",
        "blue = '\\033[34m'\n",
        "red = '\\033[31m'\n",
        "\n",
        "team1_match = re.search(r'<span style=\"color: blue;\">(.*?)<\\/span>.*?<b>(.*?)<\\/b>', result)\n",
        "team2_match = re.search(r'<span style=\"color: red;\">(.*?)<\\/span>.*?<b>(.*?)<\\/b>', result)\n",
        "\n",
        "if team1_match and team2_match:\n",
        "    team1 = team1_match.group(1)\n",
        "    team1_probability = team1_match.group(2)\n",
        "\n",
        "    team2 = team2_match.group(1)\n",
        "    team2_probability = team2_match.group(2)\n",
        "\n",
        "    # Print the result in bold with colors in the console\n",
        "    print(f\"{bold_start}{blue}{team1}: {team1_probability}%{bold_end}\")\n",
        "    print(f\"{bold_start}{red}{team2}: {team2_probability}%{bold_end}\")\n",
        "else:\n",
        "    print(\"Failed to extract team names or probabilities from the result.\")"
      ],
      "metadata": {
        "colab": {
          "base_uri": "https://localhost:8080/"
        },
        "id": "gjih3Z7yK-mc",
        "outputId": "c2c9d6a8-cb23-4b32-9075-c6bf1d2e9713"
      },
      "execution_count": 6,
      "outputs": [
        {
          "output_type": "stream",
          "name": "stdout",
          "text": [
            "Loaded as API: https://asgharrehman-ipl-win-predictor.hf.space ✔\n",
            "\u001b[1m\u001b[34mSunrisers Hyderabad: 25.641429191858606%%\u001b[0m\n",
            "\u001b[1m\u001b[31mChennai Super Kings: 74.3585708081414%%\u001b[0m\n"
          ]
        }
      ]
    }
  ]
}